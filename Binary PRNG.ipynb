{
 "cells": [
  {
   "cell_type": "code",
   "execution_count": 1,
   "metadata": {},
   "outputs": [],
   "source": [
    "import random \n",
    "  \n",
    "def rand_key(p): \n",
    "    \n",
    "    key1 = \"\" \n",
    "    for i in range(p): \n",
    "        temp = str(random.randint(0, 1)) \n",
    "        key1 += temp \n",
    "          \n",
    "    return(key1) "
   ]
  },
  {
   "cell_type": "code",
   "execution_count": 45,
   "metadata": {},
   "outputs": [],
   "source": [
    "rawvalues_sim = []\n",
    "for i in range(8192):\n",
    "   str1 = rand_key(5)\n",
    "   rawvalues_sim.append(str1) "
   ]
  },
  {
   "cell_type": "code",
   "execution_count": 46,
   "metadata": {},
   "outputs": [
    {
     "data": {
      "text/plain": [
       "8192"
      ]
     },
     "execution_count": 46,
     "metadata": {},
     "output_type": "execute_result"
    }
   ],
   "source": [
    "random_variables = [int(numeric_string,2) for numeric_string in rawvalues_sim]\n",
    "len(random_variables)"
   ]
  },
  {
   "cell_type": "code",
   "execution_count": 47,
   "metadata": {},
   "outputs": [
    {
     "name": "stdout",
     "output_type": "stream",
     "text": [
      "0 : 239\n",
      "1 : 258\n",
      "2 : 241\n",
      "3 : 255\n",
      "4 : 247\n",
      "5 : 251\n",
      "6 : 260\n",
      "7 : 258\n",
      "8 : 247\n",
      "9 : 239\n",
      "10 : 272\n",
      "11 : 272\n",
      "12 : 275\n",
      "13 : 278\n",
      "14 : 288\n",
      "15 : 246\n",
      "16 : 267\n",
      "17 : 255\n",
      "18 : 261\n",
      "19 : 267\n",
      "20 : 228\n",
      "21 : 263\n",
      "22 : 280\n",
      "23 : 219\n",
      "24 : 281\n",
      "25 : 247\n",
      "26 : 261\n",
      "27 : 233\n",
      "28 : 252\n",
      "29 : 250\n",
      "30 : 247\n",
      "31 : 255\n"
     ]
    }
   ],
   "source": [
    "import collections\n",
    "def CountFrequency(arr): \n",
    "    return collections.Counter(arr)\n",
    "\n",
    "random_variables.sort()\n",
    "freq = CountFrequency(random_variables)\n",
    "\n",
    "for (key, value) in freq.items(): \n",
    "        print (key, \":\", value)"
   ]
  },
  {
   "cell_type": "code",
   "execution_count": 48,
   "metadata": {},
   "outputs": [
    {
     "name": "stdout",
     "output_type": "stream",
     "text": [
      "0 : 0.0291748046875\n",
      "1 : 0.031494140625\n",
      "2 : 0.0294189453125\n",
      "3 : 0.0311279296875\n",
      "4 : 0.0301513671875\n",
      "5 : 0.0306396484375\n",
      "6 : 0.03173828125\n",
      "7 : 0.031494140625\n",
      "8 : 0.0301513671875\n",
      "9 : 0.0291748046875\n",
      "10 : 0.033203125\n",
      "11 : 0.033203125\n",
      "12 : 0.0335693359375\n",
      "13 : 0.033935546875\n",
      "14 : 0.03515625\n",
      "15 : 0.030029296875\n",
      "16 : 0.0325927734375\n",
      "17 : 0.0311279296875\n",
      "18 : 0.0318603515625\n",
      "19 : 0.0325927734375\n",
      "20 : 0.02783203125\n",
      "21 : 0.0321044921875\n",
      "22 : 0.0341796875\n",
      "23 : 0.0267333984375\n",
      "24 : 0.0343017578125\n",
      "25 : 0.0301513671875\n",
      "26 : 0.0318603515625\n",
      "27 : 0.0284423828125\n",
      "28 : 0.03076171875\n",
      "29 : 0.030517578125\n",
      "30 : 0.0301513671875\n",
      "31 : 0.0311279296875\n"
     ]
    }
   ],
   "source": [
    "prob = CountFrequency(random_variables)\n",
    "prob_value = []\n",
    "prob_key = []\n",
    "\n",
    "for (key, value) in prob.items():\n",
    "        value = value/8192\n",
    "        prob_key.append(key)\n",
    "        prob_value.append(value)\n",
    "        print (key, \":\", value)"
   ]
  },
  {
   "cell_type": "code",
   "execution_count": 49,
   "metadata": {},
   "outputs": [],
   "source": [
    "import matplotlib.pyplot as plt\n",
    "# plt.hist(random_variables, bins=100)\n",
    "# plt.show()"
   ]
  },
  {
   "cell_type": "code",
   "execution_count": 50,
   "metadata": {},
   "outputs": [
    {
     "data": {
      "image/png": "[encoded data removed]",
      "text/plain": [
       "<Figure size 432x288 with 1 Axes>"
      ]
     },
     "metadata": {
      "needs_background": "light"
     },
     "output_type": "display_data"
    }
   ],
   "source": [
    "fig = plt.figure()\n",
    "ax = fig.add_axes([0,0,1,1])\n",
    "ax.bar(prob_key,prob_value)\n",
    "ax.set_ylabel('Probabilities')\n",
    "plt.show()"
   ]
  },
  {
   "cell_type": "code",
   "execution_count": 52,
   "metadata": {},
   "outputs": [
    {
     "name": "stdout",
     "output_type": "stream",
     "text": [
      "44167.762895699336 0.0\n",
      "reject H0\n"
     ]
    }
   ],
   "source": [
    "from scipy.stats import chisquare\n",
    "D,p = chisquare(random_variables)\n",
    "print(D,p)\n",
    "if p > 0.05:\n",
    "    print(\"accept the H0\")\n",
    "else:\n",
    "    print(\"reject H0\")"
   ]
  },
  {
   "cell_type": "markdown",
   "metadata": {},
   "source": [
    "Here as well, we can see that if the number of bits is more than 3 it rejects null hypothesis"
   ]
  },
  {
   "cell_type": "code",
   "execution_count": 133,
   "metadata": {},
   "outputs": [
    {
     "name": "stdout",
     "output_type": "stream",
     "text": [
      "0.5841425976310429 0.0\n",
      "reject H0\n"
     ]
    }
   ],
   "source": [
    "from scipy.stats import kstest\n",
    "D, p = kstest(random_variables, 'norm')\n",
    "print(D,p)\n",
    "if p > 0.05:\n",
    "    print(\"accept the H0\")\n",
    "else:\n",
    "    print(\"reject H0\")"
   ]
  },
  {
   "cell_type": "code",
   "execution_count": 134,
   "metadata": {},
   "outputs": [
    {
     "name": "stdout",
     "output_type": "stream",
     "text": [
      "9312.766100730647 2.2592749421512754e-17\n",
      "reject H0\n"
     ]
    }
   ],
   "source": [
    "from scipy.stats import power_divergence\n",
    "D, p = power_divergence(random_variables, lambda_='log-likelihood')\n",
    "print(D,p)\n",
    "if p > 0.05:\n",
    "    print(\"accept the H0\")\n",
    "else:\n",
    "    print(\"reject H0\")"
   ]
  },
  {
   "cell_type": "code",
   "execution_count": null,
   "metadata": {},
   "outputs": [],
   "source": []
  }
 ],
 "metadata": {
  "kernelspec": {
   "display_name": "Python 3",
   "language": "python",
   "name": "python3"
  },
  "language_info": {
   "codemirror_mode": {
    "name": "ipython",
    "version": 3
   },
   "file_extension": ".py",
   "mimetype": "text/x-python",
   "name": "python",
   "nbconvert_exporter": "python",
   "pygments_lexer": "ipython3",
   "version": "3.7.4"
  }
 },
 "nbformat": 4,
 "nbformat_minor": 2
}
